{
 "cells": [
  {
   "cell_type": "markdown",
   "id": "fccc5b4a",
   "metadata": {},
   "source": [
    "# Python_Project_7 :- Credit Card"
   ]
  },
  {
   "cell_type": "code",
   "execution_count": 1,
   "id": "f6b4cba3",
   "metadata": {},
   "outputs": [],
   "source": [
    "import pandas as pd"
   ]
  },
  {
   "cell_type": "code",
   "execution_count": 2,
   "id": "8c6f7c5d",
   "metadata": {},
   "outputs": [],
   "source": [
    "import numpy as np"
   ]
  },
  {
   "cell_type": "markdown",
   "id": "683fae2f",
   "metadata": {},
   "source": [
    "# Customer Acqusition\n",
    "\n",
    "cust=pd.read_csv(r\"C:\\Users\\crmwe\\Desktop\\Python_Project\\Customer Acqusition.csv\")"
   ]
  },
  {
   "cell_type": "code",
   "execution_count": 4,
   "id": "c46f573a",
   "metadata": {},
   "outputs": [
    {
     "data": {
      "text/html": [
       "<div>\n",
       "<style scoped>\n",
       "    .dataframe tbody tr th:only-of-type {\n",
       "        vertical-align: middle;\n",
       "    }\n",
       "\n",
       "    .dataframe tbody tr th {\n",
       "        vertical-align: top;\n",
       "    }\n",
       "\n",
       "    .dataframe thead th {\n",
       "        text-align: right;\n",
       "    }\n",
       "</style>\n",
       "<table border=\"1\" class=\"dataframe\">\n",
       "  <thead>\n",
       "    <tr style=\"text-align: right;\">\n",
       "      <th></th>\n",
       "      <th>No</th>\n",
       "      <th>Customer</th>\n",
       "      <th>Age</th>\n",
       "      <th>City</th>\n",
       "      <th>Product</th>\n",
       "      <th>Limit</th>\n",
       "      <th>Company</th>\n",
       "      <th>Segment</th>\n",
       "    </tr>\n",
       "  </thead>\n",
       "  <tbody>\n",
       "    <tr>\n",
       "      <th>0</th>\n",
       "      <td>1</td>\n",
       "      <td>A1</td>\n",
       "      <td>76</td>\n",
       "      <td>BANGALORE</td>\n",
       "      <td>Gold</td>\n",
       "      <td>500000.0</td>\n",
       "      <td>C1</td>\n",
       "      <td>Self Employed</td>\n",
       "    </tr>\n",
       "    <tr>\n",
       "      <th>1</th>\n",
       "      <td>2</td>\n",
       "      <td>A2</td>\n",
       "      <td>71</td>\n",
       "      <td>CALCUTTA</td>\n",
       "      <td>Silver</td>\n",
       "      <td>100000.0</td>\n",
       "      <td>C2</td>\n",
       "      <td>Salaried_MNC</td>\n",
       "    </tr>\n",
       "    <tr>\n",
       "      <th>2</th>\n",
       "      <td>3</td>\n",
       "      <td>A3</td>\n",
       "      <td>34</td>\n",
       "      <td>COCHIN</td>\n",
       "      <td>Platimum</td>\n",
       "      <td>10000.0</td>\n",
       "      <td>C3</td>\n",
       "      <td>Salaried_Pvt</td>\n",
       "    </tr>\n",
       "    <tr>\n",
       "      <th>3</th>\n",
       "      <td>4</td>\n",
       "      <td>A4</td>\n",
       "      <td>47</td>\n",
       "      <td>BOMBAY</td>\n",
       "      <td>Platimum</td>\n",
       "      <td>10001.0</td>\n",
       "      <td>C4</td>\n",
       "      <td>Govt</td>\n",
       "    </tr>\n",
       "    <tr>\n",
       "      <th>4</th>\n",
       "      <td>5</td>\n",
       "      <td>A5</td>\n",
       "      <td>56</td>\n",
       "      <td>BANGALORE</td>\n",
       "      <td>Platimum</td>\n",
       "      <td>10002.0</td>\n",
       "      <td>C5</td>\n",
       "      <td>Normal Salary</td>\n",
       "    </tr>\n",
       "  </tbody>\n",
       "</table>\n",
       "</div>"
      ],
      "text/plain": [
       "   No Customer  Age       City   Product     Limit Company        Segment\n",
       "0   1       A1   76  BANGALORE      Gold  500000.0      C1  Self Employed\n",
       "1   2       A2   71   CALCUTTA    Silver  100000.0      C2   Salaried_MNC\n",
       "2   3       A3   34     COCHIN  Platimum   10000.0      C3   Salaried_Pvt\n",
       "3   4       A4   47     BOMBAY  Platimum   10001.0      C4           Govt\n",
       "4   5       A5   56  BANGALORE  Platimum   10002.0      C5  Normal Salary"
      ]
     },
     "execution_count": 4,
     "metadata": {},
     "output_type": "execute_result"
    }
   ],
   "source": [
    "cust.head()"
   ]
  },
  {
   "cell_type": "code",
   "execution_count": 6,
   "id": "8c00bb7f",
   "metadata": {},
   "outputs": [
    {
     "name": "stdout",
     "output_type": "stream",
     "text": [
      "<class 'pandas.core.frame.DataFrame'>\n",
      "RangeIndex: 100 entries, 0 to 99\n",
      "Data columns (total 8 columns):\n",
      " #   Column    Non-Null Count  Dtype  \n",
      "---  ------    --------------  -----  \n",
      " 0   No        100 non-null    int64  \n",
      " 1   Customer  100 non-null    object \n",
      " 2   Age       100 non-null    int64  \n",
      " 3   City      100 non-null    object \n",
      " 4   Product   100 non-null    object \n",
      " 5   Limit     100 non-null    float64\n",
      " 6   Company   100 non-null    object \n",
      " 7   Segment   100 non-null    object \n",
      "dtypes: float64(1), int64(2), object(5)\n",
      "memory usage: 6.4+ KB\n"
     ]
    }
   ],
   "source": [
    "cust.info()"
   ]
  },
  {
   "cell_type": "code",
   "execution_count": 7,
   "id": "349a835c",
   "metadata": {},
   "outputs": [
    {
     "data": {
      "text/plain": [
       "No          0\n",
       "Customer    0\n",
       "Age         0\n",
       "City        0\n",
       "Product     0\n",
       "Limit       0\n",
       "Company     0\n",
       "Segment     0\n",
       "dtype: int64"
      ]
     },
     "execution_count": 7,
     "metadata": {},
     "output_type": "execute_result"
    }
   ],
   "source": [
    "cust.isnull().sum()"
   ]
  },
  {
   "cell_type": "markdown",
   "id": "cda7e259",
   "metadata": {},
   "source": [
    "# Repayment\n",
    "\n",
    "rep=pd.read_csv(r\"C:\\Users\\crmwe\\Desktop\\Python_Project\\Repayment.csv\")"
   ]
  },
  {
   "cell_type": "code",
   "execution_count": 9,
   "id": "fce2580f",
   "metadata": {},
   "outputs": [
    {
     "data": {
      "text/html": [
       "<div>\n",
       "<style scoped>\n",
       "    .dataframe tbody tr th:only-of-type {\n",
       "        vertical-align: middle;\n",
       "    }\n",
       "\n",
       "    .dataframe tbody tr th {\n",
       "        vertical-align: top;\n",
       "    }\n",
       "\n",
       "    .dataframe thead th {\n",
       "        text-align: right;\n",
       "    }\n",
       "</style>\n",
       "<table border=\"1\" class=\"dataframe\">\n",
       "  <thead>\n",
       "    <tr style=\"text-align: right;\">\n",
       "      <th></th>\n",
       "      <th>SL No:</th>\n",
       "      <th>Customer</th>\n",
       "      <th>Month</th>\n",
       "      <th>Amount</th>\n",
       "      <th>Unnamed: 4</th>\n",
       "    </tr>\n",
       "  </thead>\n",
       "  <tbody>\n",
       "    <tr>\n",
       "      <th>0</th>\n",
       "      <td>NaN</td>\n",
       "      <td>A1</td>\n",
       "      <td>12-Jan-04</td>\n",
       "      <td>495414.75</td>\n",
       "      <td>NaN</td>\n",
       "    </tr>\n",
       "    <tr>\n",
       "      <th>1</th>\n",
       "      <td>2.0</td>\n",
       "      <td>A1</td>\n",
       "      <td>3-Jan-04</td>\n",
       "      <td>245899.02</td>\n",
       "      <td>NaN</td>\n",
       "    </tr>\n",
       "    <tr>\n",
       "      <th>2</th>\n",
       "      <td>3.0</td>\n",
       "      <td>A1</td>\n",
       "      <td>15-Jan-04</td>\n",
       "      <td>259490.06</td>\n",
       "      <td>NaN</td>\n",
       "    </tr>\n",
       "    <tr>\n",
       "      <th>3</th>\n",
       "      <td>4.0</td>\n",
       "      <td>A1</td>\n",
       "      <td>25-Jan-04</td>\n",
       "      <td>437555.12</td>\n",
       "      <td>NaN</td>\n",
       "    </tr>\n",
       "    <tr>\n",
       "      <th>4</th>\n",
       "      <td>5.0</td>\n",
       "      <td>A1</td>\n",
       "      <td>17-Jan-05</td>\n",
       "      <td>165972.88</td>\n",
       "      <td>NaN</td>\n",
       "    </tr>\n",
       "  </tbody>\n",
       "</table>\n",
       "</div>"
      ],
      "text/plain": [
       "   SL No: Customer      Month     Amount  Unnamed: 4\n",
       "0     NaN       A1  12-Jan-04  495414.75         NaN\n",
       "1     2.0       A1   3-Jan-04  245899.02         NaN\n",
       "2     3.0       A1  15-Jan-04  259490.06         NaN\n",
       "3     4.0       A1  25-Jan-04  437555.12         NaN\n",
       "4     5.0       A1  17-Jan-05  165972.88         NaN"
      ]
     },
     "execution_count": 9,
     "metadata": {},
     "output_type": "execute_result"
    }
   ],
   "source": [
    "rep.head()"
   ]
  },
  {
   "cell_type": "code",
   "execution_count": 10,
   "id": "d0776c74",
   "metadata": {},
   "outputs": [
    {
     "name": "stdout",
     "output_type": "stream",
     "text": [
      "<class 'pandas.core.frame.DataFrame'>\n",
      "RangeIndex: 1523 entries, 0 to 1522\n",
      "Data columns (total 5 columns):\n",
      " #   Column      Non-Null Count  Dtype  \n",
      "---  ------      --------------  -----  \n",
      " 0   SL No:      1499 non-null   float64\n",
      " 1   Customer    1500 non-null   object \n",
      " 2   Month       1500 non-null   object \n",
      " 3   Amount      1500 non-null   float64\n",
      " 4   Unnamed: 4  0 non-null      float64\n",
      "dtypes: float64(3), object(2)\n",
      "memory usage: 59.6+ KB\n"
     ]
    }
   ],
   "source": [
    "rep.info()"
   ]
  },
  {
   "cell_type": "code",
   "execution_count": 11,
   "id": "263234fc",
   "metadata": {},
   "outputs": [],
   "source": [
    "rep.drop(['Unnamed: 4','SL No:'],axis=1,inplace=True)"
   ]
  },
  {
   "cell_type": "code",
   "execution_count": 12,
   "id": "3e0f8b5c",
   "metadata": {},
   "outputs": [
    {
     "data": {
      "text/html": [
       "<div>\n",
       "<style scoped>\n",
       "    .dataframe tbody tr th:only-of-type {\n",
       "        vertical-align: middle;\n",
       "    }\n",
       "\n",
       "    .dataframe tbody tr th {\n",
       "        vertical-align: top;\n",
       "    }\n",
       "\n",
       "    .dataframe thead th {\n",
       "        text-align: right;\n",
       "    }\n",
       "</style>\n",
       "<table border=\"1\" class=\"dataframe\">\n",
       "  <thead>\n",
       "    <tr style=\"text-align: right;\">\n",
       "      <th></th>\n",
       "      <th>Customer</th>\n",
       "      <th>Month</th>\n",
       "      <th>Amount</th>\n",
       "    </tr>\n",
       "  </thead>\n",
       "  <tbody>\n",
       "    <tr>\n",
       "      <th>0</th>\n",
       "      <td>A1</td>\n",
       "      <td>12-Jan-04</td>\n",
       "      <td>495414.75</td>\n",
       "    </tr>\n",
       "    <tr>\n",
       "      <th>1</th>\n",
       "      <td>A1</td>\n",
       "      <td>3-Jan-04</td>\n",
       "      <td>245899.02</td>\n",
       "    </tr>\n",
       "    <tr>\n",
       "      <th>2</th>\n",
       "      <td>A1</td>\n",
       "      <td>15-Jan-04</td>\n",
       "      <td>259490.06</td>\n",
       "    </tr>\n",
       "    <tr>\n",
       "      <th>3</th>\n",
       "      <td>A1</td>\n",
       "      <td>25-Jan-04</td>\n",
       "      <td>437555.12</td>\n",
       "    </tr>\n",
       "    <tr>\n",
       "      <th>4</th>\n",
       "      <td>A1</td>\n",
       "      <td>17-Jan-05</td>\n",
       "      <td>165972.88</td>\n",
       "    </tr>\n",
       "  </tbody>\n",
       "</table>\n",
       "</div>"
      ],
      "text/plain": [
       "  Customer      Month     Amount\n",
       "0       A1  12-Jan-04  495414.75\n",
       "1       A1   3-Jan-04  245899.02\n",
       "2       A1  15-Jan-04  259490.06\n",
       "3       A1  25-Jan-04  437555.12\n",
       "4       A1  17-Jan-05  165972.88"
      ]
     },
     "execution_count": 12,
     "metadata": {},
     "output_type": "execute_result"
    }
   ],
   "source": [
    "rep.head()"
   ]
  },
  {
   "cell_type": "code",
   "execution_count": 14,
   "id": "f10be5bd",
   "metadata": {},
   "outputs": [],
   "source": [
    "rep.dropna(axis=0,inplace=True)"
   ]
  },
  {
   "cell_type": "code",
   "execution_count": 15,
   "id": "686b2fba",
   "metadata": {},
   "outputs": [
    {
     "data": {
      "text/plain": [
       "Customer    0\n",
       "Month       0\n",
       "Amount      0\n",
       "dtype: int64"
      ]
     },
     "execution_count": 15,
     "metadata": {},
     "output_type": "execute_result"
    }
   ],
   "source": [
    "rep.isnull().sum()"
   ]
  },
  {
   "cell_type": "markdown",
   "id": "018dfc11",
   "metadata": {},
   "source": [
    "# Spend\n",
    "\n",
    "sep=pd.read_csv(r\"C:\\Users\\crmwe\\Desktop\\Python_Project\\spend.csv\")"
   ]
  },
  {
   "cell_type": "code",
   "execution_count": 18,
   "id": "9b3277f0",
   "metadata": {
    "scrolled": true
   },
   "outputs": [
    {
     "data": {
      "text/html": [
       "<div>\n",
       "<style scoped>\n",
       "    .dataframe tbody tr th:only-of-type {\n",
       "        vertical-align: middle;\n",
       "    }\n",
       "\n",
       "    .dataframe tbody tr th {\n",
       "        vertical-align: top;\n",
       "    }\n",
       "\n",
       "    .dataframe thead th {\n",
       "        text-align: right;\n",
       "    }\n",
       "</style>\n",
       "<table border=\"1\" class=\"dataframe\">\n",
       "  <thead>\n",
       "    <tr style=\"text-align: right;\">\n",
       "      <th></th>\n",
       "      <th>Sl No:</th>\n",
       "      <th>Customer</th>\n",
       "      <th>Month</th>\n",
       "      <th>Type</th>\n",
       "      <th>Amount</th>\n",
       "    </tr>\n",
       "  </thead>\n",
       "  <tbody>\n",
       "    <tr>\n",
       "      <th>0</th>\n",
       "      <td>1</td>\n",
       "      <td>A1</td>\n",
       "      <td>12-Jan-04</td>\n",
       "      <td>JEWELLERY</td>\n",
       "      <td>485470.80</td>\n",
       "    </tr>\n",
       "    <tr>\n",
       "      <th>1</th>\n",
       "      <td>2</td>\n",
       "      <td>A1</td>\n",
       "      <td>3-Jan-04</td>\n",
       "      <td>PETRO</td>\n",
       "      <td>410556.13</td>\n",
       "    </tr>\n",
       "    <tr>\n",
       "      <th>2</th>\n",
       "      <td>3</td>\n",
       "      <td>A1</td>\n",
       "      <td>15-Jan-04</td>\n",
       "      <td>CLOTHES</td>\n",
       "      <td>23740.46</td>\n",
       "    </tr>\n",
       "    <tr>\n",
       "      <th>3</th>\n",
       "      <td>4</td>\n",
       "      <td>A1</td>\n",
       "      <td>25-Jan-04</td>\n",
       "      <td>FOOD</td>\n",
       "      <td>484342.47</td>\n",
       "    </tr>\n",
       "    <tr>\n",
       "      <th>4</th>\n",
       "      <td>5</td>\n",
       "      <td>A1</td>\n",
       "      <td>17-Jan-05</td>\n",
       "      <td>CAMERA</td>\n",
       "      <td>369694.07</td>\n",
       "    </tr>\n",
       "  </tbody>\n",
       "</table>\n",
       "</div>"
      ],
      "text/plain": [
       "   Sl No: Customer      Month       Type     Amount\n",
       "0       1       A1  12-Jan-04  JEWELLERY  485470.80\n",
       "1       2       A1   3-Jan-04      PETRO  410556.13\n",
       "2       3       A1  15-Jan-04    CLOTHES   23740.46\n",
       "3       4       A1  25-Jan-04       FOOD  484342.47\n",
       "4       5       A1  17-Jan-05     CAMERA  369694.07"
      ]
     },
     "execution_count": 18,
     "metadata": {},
     "output_type": "execute_result"
    }
   ],
   "source": [
    "sep.head()"
   ]
  },
  {
   "cell_type": "code",
   "execution_count": 19,
   "id": "125e0c2c",
   "metadata": {},
   "outputs": [
    {
     "name": "stdout",
     "output_type": "stream",
     "text": [
      "<class 'pandas.core.frame.DataFrame'>\n",
      "RangeIndex: 1500 entries, 0 to 1499\n",
      "Data columns (total 5 columns):\n",
      " #   Column    Non-Null Count  Dtype  \n",
      "---  ------    --------------  -----  \n",
      " 0   Sl No:    1500 non-null   int64  \n",
      " 1   Customer  1500 non-null   object \n",
      " 2   Month     1500 non-null   object \n",
      " 3   Type      1500 non-null   object \n",
      " 4   Amount    1500 non-null   float64\n",
      "dtypes: float64(1), int64(1), object(3)\n",
      "memory usage: 58.7+ KB\n"
     ]
    }
   ],
   "source": [
    "sep.info()"
   ]
  },
  {
   "cell_type": "code",
   "execution_count": 20,
   "id": "1b0d8dcd",
   "metadata": {},
   "outputs": [
    {
     "data": {
      "text/plain": [
       "Sl No:      0\n",
       "Customer    0\n",
       "Month       0\n",
       "Type        0\n",
       "Amount      0\n",
       "dtype: int64"
      ]
     },
     "execution_count": 20,
     "metadata": {},
     "output_type": "execute_result"
    }
   ],
   "source": [
    "sep.isnull().sum()"
   ]
  },
  {
   "cell_type": "markdown",
   "id": "468ff7c9",
   "metadata": {},
   "source": [
    "# ************************** Merging_Data_Set************************************* "
   ]
  },
  {
   "cell_type": "code",
   "execution_count": 21,
   "id": "69a08c08",
   "metadata": {},
   "outputs": [],
   "source": [
    "cust_sep=pd.merge(left=cust,right=sep,on='Customer')"
   ]
  },
  {
   "cell_type": "code",
   "execution_count": 29,
   "id": "724c1abc",
   "metadata": {},
   "outputs": [
    {
     "data": {
      "text/html": [
       "<div>\n",
       "<style scoped>\n",
       "    .dataframe tbody tr th:only-of-type {\n",
       "        vertical-align: middle;\n",
       "    }\n",
       "\n",
       "    .dataframe tbody tr th {\n",
       "        vertical-align: top;\n",
       "    }\n",
       "\n",
       "    .dataframe thead th {\n",
       "        text-align: right;\n",
       "    }\n",
       "</style>\n",
       "<table border=\"1\" class=\"dataframe\">\n",
       "  <thead>\n",
       "    <tr style=\"text-align: right;\">\n",
       "      <th></th>\n",
       "      <th>No</th>\n",
       "      <th>Customer</th>\n",
       "      <th>Age</th>\n",
       "      <th>City</th>\n",
       "      <th>Product</th>\n",
       "      <th>Limit</th>\n",
       "      <th>Company</th>\n",
       "      <th>Segment</th>\n",
       "      <th>Sl No:</th>\n",
       "      <th>Month</th>\n",
       "      <th>Type</th>\n",
       "      <th>Amount</th>\n",
       "    </tr>\n",
       "  </thead>\n",
       "  <tbody>\n",
       "    <tr>\n",
       "      <th>0</th>\n",
       "      <td>1</td>\n",
       "      <td>A1</td>\n",
       "      <td>76</td>\n",
       "      <td>BANGALORE</td>\n",
       "      <td>Gold</td>\n",
       "      <td>500000.0</td>\n",
       "      <td>C1</td>\n",
       "      <td>Self Employed</td>\n",
       "      <td>1</td>\n",
       "      <td>12-Jan-04</td>\n",
       "      <td>JEWELLERY</td>\n",
       "      <td>485470.80</td>\n",
       "    </tr>\n",
       "    <tr>\n",
       "      <th>1</th>\n",
       "      <td>1</td>\n",
       "      <td>A1</td>\n",
       "      <td>76</td>\n",
       "      <td>BANGALORE</td>\n",
       "      <td>Gold</td>\n",
       "      <td>500000.0</td>\n",
       "      <td>C1</td>\n",
       "      <td>Self Employed</td>\n",
       "      <td>2</td>\n",
       "      <td>3-Jan-04</td>\n",
       "      <td>PETRO</td>\n",
       "      <td>410556.13</td>\n",
       "    </tr>\n",
       "    <tr>\n",
       "      <th>2</th>\n",
       "      <td>1</td>\n",
       "      <td>A1</td>\n",
       "      <td>76</td>\n",
       "      <td>BANGALORE</td>\n",
       "      <td>Gold</td>\n",
       "      <td>500000.0</td>\n",
       "      <td>C1</td>\n",
       "      <td>Self Employed</td>\n",
       "      <td>3</td>\n",
       "      <td>15-Jan-04</td>\n",
       "      <td>CLOTHES</td>\n",
       "      <td>23740.46</td>\n",
       "    </tr>\n",
       "    <tr>\n",
       "      <th>3</th>\n",
       "      <td>1</td>\n",
       "      <td>A1</td>\n",
       "      <td>76</td>\n",
       "      <td>BANGALORE</td>\n",
       "      <td>Gold</td>\n",
       "      <td>500000.0</td>\n",
       "      <td>C1</td>\n",
       "      <td>Self Employed</td>\n",
       "      <td>4</td>\n",
       "      <td>25-Jan-04</td>\n",
       "      <td>FOOD</td>\n",
       "      <td>484342.47</td>\n",
       "    </tr>\n",
       "    <tr>\n",
       "      <th>4</th>\n",
       "      <td>1</td>\n",
       "      <td>A1</td>\n",
       "      <td>76</td>\n",
       "      <td>BANGALORE</td>\n",
       "      <td>Gold</td>\n",
       "      <td>500000.0</td>\n",
       "      <td>C1</td>\n",
       "      <td>Self Employed</td>\n",
       "      <td>5</td>\n",
       "      <td>17-Jan-05</td>\n",
       "      <td>CAMERA</td>\n",
       "      <td>369694.07</td>\n",
       "    </tr>\n",
       "  </tbody>\n",
       "</table>\n",
       "</div>"
      ],
      "text/plain": [
       "   No Customer  Age       City Product     Limit Company        Segment  \\\n",
       "0   1       A1   76  BANGALORE    Gold  500000.0      C1  Self Employed   \n",
       "1   1       A1   76  BANGALORE    Gold  500000.0      C1  Self Employed   \n",
       "2   1       A1   76  BANGALORE    Gold  500000.0      C1  Self Employed   \n",
       "3   1       A1   76  BANGALORE    Gold  500000.0      C1  Self Employed   \n",
       "4   1       A1   76  BANGALORE    Gold  500000.0      C1  Self Employed   \n",
       "\n",
       "   Sl No:      Month       Type     Amount  \n",
       "0       1  12-Jan-04  JEWELLERY  485470.80  \n",
       "1       2   3-Jan-04      PETRO  410556.13  \n",
       "2       3  15-Jan-04    CLOTHES   23740.46  \n",
       "3       4  25-Jan-04       FOOD  484342.47  \n",
       "4       5  17-Jan-05     CAMERA  369694.07  "
      ]
     },
     "execution_count": 29,
     "metadata": {},
     "output_type": "execute_result"
    }
   ],
   "source": [
    "cust_sep.head()"
   ]
  },
  {
   "cell_type": "code",
   "execution_count": 44,
   "id": "072ca2f2",
   "metadata": {},
   "outputs": [],
   "source": [
    "cust_rep=pd.merge(left=cust,right=rep,on='Customer')"
   ]
  },
  {
   "cell_type": "code",
   "execution_count": 45,
   "id": "5d799247",
   "metadata": {},
   "outputs": [
    {
     "data": {
      "text/html": [
       "<div>\n",
       "<style scoped>\n",
       "    .dataframe tbody tr th:only-of-type {\n",
       "        vertical-align: middle;\n",
       "    }\n",
       "\n",
       "    .dataframe tbody tr th {\n",
       "        vertical-align: top;\n",
       "    }\n",
       "\n",
       "    .dataframe thead th {\n",
       "        text-align: right;\n",
       "    }\n",
       "</style>\n",
       "<table border=\"1\" class=\"dataframe\">\n",
       "  <thead>\n",
       "    <tr style=\"text-align: right;\">\n",
       "      <th></th>\n",
       "      <th>No</th>\n",
       "      <th>Customer</th>\n",
       "      <th>Age</th>\n",
       "      <th>City</th>\n",
       "      <th>Product</th>\n",
       "      <th>Limit</th>\n",
       "      <th>Company</th>\n",
       "      <th>Segment</th>\n",
       "      <th>Month</th>\n",
       "      <th>Amount</th>\n",
       "    </tr>\n",
       "  </thead>\n",
       "  <tbody>\n",
       "    <tr>\n",
       "      <th>0</th>\n",
       "      <td>1</td>\n",
       "      <td>A1</td>\n",
       "      <td>76</td>\n",
       "      <td>BANGALORE</td>\n",
       "      <td>Gold</td>\n",
       "      <td>500000.0</td>\n",
       "      <td>C1</td>\n",
       "      <td>Self Employed</td>\n",
       "      <td>12-Jan-04</td>\n",
       "      <td>495414.75</td>\n",
       "    </tr>\n",
       "    <tr>\n",
       "      <th>1</th>\n",
       "      <td>1</td>\n",
       "      <td>A1</td>\n",
       "      <td>76</td>\n",
       "      <td>BANGALORE</td>\n",
       "      <td>Gold</td>\n",
       "      <td>500000.0</td>\n",
       "      <td>C1</td>\n",
       "      <td>Self Employed</td>\n",
       "      <td>3-Jan-04</td>\n",
       "      <td>245899.02</td>\n",
       "    </tr>\n",
       "    <tr>\n",
       "      <th>2</th>\n",
       "      <td>1</td>\n",
       "      <td>A1</td>\n",
       "      <td>76</td>\n",
       "      <td>BANGALORE</td>\n",
       "      <td>Gold</td>\n",
       "      <td>500000.0</td>\n",
       "      <td>C1</td>\n",
       "      <td>Self Employed</td>\n",
       "      <td>15-Jan-04</td>\n",
       "      <td>259490.06</td>\n",
       "    </tr>\n",
       "    <tr>\n",
       "      <th>3</th>\n",
       "      <td>1</td>\n",
       "      <td>A1</td>\n",
       "      <td>76</td>\n",
       "      <td>BANGALORE</td>\n",
       "      <td>Gold</td>\n",
       "      <td>500000.0</td>\n",
       "      <td>C1</td>\n",
       "      <td>Self Employed</td>\n",
       "      <td>25-Jan-04</td>\n",
       "      <td>437555.12</td>\n",
       "    </tr>\n",
       "    <tr>\n",
       "      <th>4</th>\n",
       "      <td>1</td>\n",
       "      <td>A1</td>\n",
       "      <td>76</td>\n",
       "      <td>BANGALORE</td>\n",
       "      <td>Gold</td>\n",
       "      <td>500000.0</td>\n",
       "      <td>C1</td>\n",
       "      <td>Self Employed</td>\n",
       "      <td>17-Jan-05</td>\n",
       "      <td>165972.88</td>\n",
       "    </tr>\n",
       "  </tbody>\n",
       "</table>\n",
       "</div>"
      ],
      "text/plain": [
       "   No Customer  Age       City Product     Limit Company        Segment  \\\n",
       "0   1       A1   76  BANGALORE    Gold  500000.0      C1  Self Employed   \n",
       "1   1       A1   76  BANGALORE    Gold  500000.0      C1  Self Employed   \n",
       "2   1       A1   76  BANGALORE    Gold  500000.0      C1  Self Employed   \n",
       "3   1       A1   76  BANGALORE    Gold  500000.0      C1  Self Employed   \n",
       "4   1       A1   76  BANGALORE    Gold  500000.0      C1  Self Employed   \n",
       "\n",
       "       Month     Amount  \n",
       "0  12-Jan-04  495414.75  \n",
       "1   3-Jan-04  245899.02  \n",
       "2  15-Jan-04  259490.06  \n",
       "3  25-Jan-04  437555.12  \n",
       "4  17-Jan-05  165972.88  "
      ]
     },
     "execution_count": 45,
     "metadata": {},
     "output_type": "execute_result"
    }
   ],
   "source": [
    "cust_rep.head()"
   ]
  },
  {
   "cell_type": "markdown",
   "id": "8dc2ca6a",
   "metadata": {},
   "source": [
    "# ***************************** Opretion Perform *************************************"
   ]
  },
  {
   "cell_type": "markdown",
   "id": "14857f16",
   "metadata": {},
   "source": [
    "1.How many distinct customers exist ?"
   ]
  },
  {
   "cell_type": "code",
   "execution_count": 25,
   "id": "7c594d45",
   "metadata": {},
   "outputs": [
    {
     "data": {
      "text/plain": [
       "100"
      ]
     },
     "execution_count": 25,
     "metadata": {},
     "output_type": "execute_result"
    }
   ],
   "source": [
    "cust_sep['Customer'].drop_duplicates().count()"
   ]
  },
  {
   "cell_type": "markdown",
   "id": "b63e1247",
   "metadata": {},
   "source": [
    "2.How many distinct categories exist ?"
   ]
  },
  {
   "cell_type": "code",
   "execution_count": 32,
   "id": "2832e97d",
   "metadata": {},
   "outputs": [
    {
     "data": {
      "text/plain": [
       "3"
      ]
     },
     "execution_count": 32,
     "metadata": {},
     "output_type": "execute_result"
    }
   ],
   "source": [
    "cust_sep['Product'].drop_duplicates().count()"
   ]
  },
  {
   "cell_type": "markdown",
   "id": "6de22c0d",
   "metadata": {},
   "source": [
    "3.What are the top 5 product types ?"
   ]
  },
  {
   "cell_type": "code",
   "execution_count": 68,
   "id": "fee2b2b7",
   "metadata": {},
   "outputs": [
    {
     "data": {
      "text/plain": [
       "Type\n",
       "PETRO           49863174.09\n",
       "CAMERA          41481571.96\n",
       "FOOD            37773338.43\n",
       "TRAIN TICKET    33067077.15\n",
       "AIR TICKET      32955445.42\n",
       "Name: Amount, dtype: float64"
      ]
     },
     "execution_count": 68,
     "metadata": {},
     "output_type": "execute_result"
    }
   ],
   "source": [
    "cust_sep.groupby('Type').Amount.sum().nlargest()"
   ]
  },
  {
   "cell_type": "markdown",
   "id": "768dbb17",
   "metadata": {},
   "source": [
    "4.Which city is having maximum spend ?"
   ]
  },
  {
   "cell_type": "code",
   "execution_count": 36,
   "id": "90e27389",
   "metadata": {},
   "outputs": [
    {
     "data": {
      "text/plain": [
       "City\n",
       "COCHIN       73495349.26\n",
       "BANGALORE    69342631.62\n",
       "CALCUTTA     64415760.01\n",
       "BOMBAY       50828266.74\n",
       "CHENNAI      32674988.07\n",
       "Name: Amount, dtype: float64"
      ]
     },
     "execution_count": 36,
     "metadata": {},
     "output_type": "execute_result"
    }
   ],
   "source": [
    "cust_sep.groupby('City').Amount.sum().nlargest()"
   ]
  },
  {
   "cell_type": "raw",
   "id": "6f509fdf",
   "metadata": {},
   "source": [
    "5.Which age group is spending more money ?"
   ]
  },
  {
   "cell_type": "code",
   "execution_count": 39,
   "id": "bbe3ed9c",
   "metadata": {},
   "outputs": [],
   "source": [
    "cust_sep['Age_Category']=np.where(((cust_sep.Age.astype(int) >= 18) & (cust_sep.Age.astype(int) < 25)), 'Youth',\n",
    "np.where(((cust_sep.Age.astype(int) >= 25) & (cust_sep.Age.astype(int) < 65)), 'Adult','Senior'))"
   ]
  },
  {
   "cell_type": "code",
   "execution_count": 47,
   "id": "37e2d8ee",
   "metadata": {},
   "outputs": [
    {
     "data": {
      "text/html": [
       "<div>\n",
       "<style scoped>\n",
       "    .dataframe tbody tr th:only-of-type {\n",
       "        vertical-align: middle;\n",
       "    }\n",
       "\n",
       "    .dataframe tbody tr th {\n",
       "        vertical-align: top;\n",
       "    }\n",
       "\n",
       "    .dataframe thead th {\n",
       "        text-align: right;\n",
       "    }\n",
       "</style>\n",
       "<table border=\"1\" class=\"dataframe\">\n",
       "  <thead>\n",
       "    <tr style=\"text-align: right;\">\n",
       "      <th></th>\n",
       "      <th>No</th>\n",
       "      <th>Customer</th>\n",
       "      <th>Age</th>\n",
       "      <th>City</th>\n",
       "      <th>Product</th>\n",
       "      <th>Limit</th>\n",
       "      <th>Company</th>\n",
       "      <th>Segment</th>\n",
       "      <th>Sl No:</th>\n",
       "      <th>Month</th>\n",
       "      <th>Type</th>\n",
       "      <th>Amount</th>\n",
       "      <th>Age_Group</th>\n",
       "      <th>Age_Category</th>\n",
       "    </tr>\n",
       "  </thead>\n",
       "  <tbody>\n",
       "    <tr>\n",
       "      <th>0</th>\n",
       "      <td>1</td>\n",
       "      <td>A1</td>\n",
       "      <td>76</td>\n",
       "      <td>BANGALORE</td>\n",
       "      <td>Gold</td>\n",
       "      <td>500000.0</td>\n",
       "      <td>C1</td>\n",
       "      <td>Self Employed</td>\n",
       "      <td>1</td>\n",
       "      <td>12-Jan-04</td>\n",
       "      <td>JEWELLERY</td>\n",
       "      <td>485470.80</td>\n",
       "      <td>Senior</td>\n",
       "      <td>Senior</td>\n",
       "    </tr>\n",
       "    <tr>\n",
       "      <th>1</th>\n",
       "      <td>1</td>\n",
       "      <td>A1</td>\n",
       "      <td>76</td>\n",
       "      <td>BANGALORE</td>\n",
       "      <td>Gold</td>\n",
       "      <td>500000.0</td>\n",
       "      <td>C1</td>\n",
       "      <td>Self Employed</td>\n",
       "      <td>2</td>\n",
       "      <td>3-Jan-04</td>\n",
       "      <td>PETRO</td>\n",
       "      <td>410556.13</td>\n",
       "      <td>Senior</td>\n",
       "      <td>Senior</td>\n",
       "    </tr>\n",
       "    <tr>\n",
       "      <th>2</th>\n",
       "      <td>1</td>\n",
       "      <td>A1</td>\n",
       "      <td>76</td>\n",
       "      <td>BANGALORE</td>\n",
       "      <td>Gold</td>\n",
       "      <td>500000.0</td>\n",
       "      <td>C1</td>\n",
       "      <td>Self Employed</td>\n",
       "      <td>3</td>\n",
       "      <td>15-Jan-04</td>\n",
       "      <td>CLOTHES</td>\n",
       "      <td>23740.46</td>\n",
       "      <td>Senior</td>\n",
       "      <td>Senior</td>\n",
       "    </tr>\n",
       "    <tr>\n",
       "      <th>3</th>\n",
       "      <td>1</td>\n",
       "      <td>A1</td>\n",
       "      <td>76</td>\n",
       "      <td>BANGALORE</td>\n",
       "      <td>Gold</td>\n",
       "      <td>500000.0</td>\n",
       "      <td>C1</td>\n",
       "      <td>Self Employed</td>\n",
       "      <td>4</td>\n",
       "      <td>25-Jan-04</td>\n",
       "      <td>FOOD</td>\n",
       "      <td>484342.47</td>\n",
       "      <td>Senior</td>\n",
       "      <td>Senior</td>\n",
       "    </tr>\n",
       "    <tr>\n",
       "      <th>4</th>\n",
       "      <td>1</td>\n",
       "      <td>A1</td>\n",
       "      <td>76</td>\n",
       "      <td>BANGALORE</td>\n",
       "      <td>Gold</td>\n",
       "      <td>500000.0</td>\n",
       "      <td>C1</td>\n",
       "      <td>Self Employed</td>\n",
       "      <td>5</td>\n",
       "      <td>17-Jan-05</td>\n",
       "      <td>CAMERA</td>\n",
       "      <td>369694.07</td>\n",
       "      <td>Senior</td>\n",
       "      <td>Senior</td>\n",
       "    </tr>\n",
       "  </tbody>\n",
       "</table>\n",
       "</div>"
      ],
      "text/plain": [
       "   No Customer  Age       City Product     Limit Company        Segment  \\\n",
       "0   1       A1   76  BANGALORE    Gold  500000.0      C1  Self Employed   \n",
       "1   1       A1   76  BANGALORE    Gold  500000.0      C1  Self Employed   \n",
       "2   1       A1   76  BANGALORE    Gold  500000.0      C1  Self Employed   \n",
       "3   1       A1   76  BANGALORE    Gold  500000.0      C1  Self Employed   \n",
       "4   1       A1   76  BANGALORE    Gold  500000.0      C1  Self Employed   \n",
       "\n",
       "   Sl No:      Month       Type     Amount Age_Group Age_Category  \n",
       "0       1  12-Jan-04  JEWELLERY  485470.80    Senior       Senior  \n",
       "1       2   3-Jan-04      PETRO  410556.13    Senior       Senior  \n",
       "2       3  15-Jan-04    CLOTHES   23740.46    Senior       Senior  \n",
       "3       4  25-Jan-04       FOOD  484342.47    Senior       Senior  \n",
       "4       5  17-Jan-05     CAMERA  369694.07    Senior       Senior  "
      ]
     },
     "execution_count": 47,
     "metadata": {},
     "output_type": "execute_result"
    }
   ],
   "source": [
    "cust_sep.head()"
   ]
  },
  {
   "cell_type": "code",
   "execution_count": 43,
   "id": "eb6c4c5c",
   "metadata": {},
   "outputs": [
    {
     "data": {
      "text/plain": [
       "Age_Category\n",
       "Adult     2.713165e+08\n",
       "Senior    7.227785e+07\n",
       "Youth     2.104976e+07\n",
       "Name: Amount, dtype: float64"
      ]
     },
     "execution_count": 43,
     "metadata": {},
     "output_type": "execute_result"
    }
   ],
   "source": [
    "cust_sep.groupby('Age_Category').Amount.sum().nlargest()"
   ]
  },
  {
   "cell_type": "raw",
   "id": "fec84e78",
   "metadata": {},
   "source": [
    "6.Who are the top 10 customers in terms of repayment ?"
   ]
  },
  {
   "cell_type": "code",
   "execution_count": 52,
   "id": "2f35d9cd",
   "metadata": {},
   "outputs": [
    {
     "data": {
      "text/plain": [
       "Customer\n",
       "A61    10539142.91\n",
       "A60     9876290.74\n",
       "A13     9572000.66\n",
       "A22     9372561.68\n",
       "A21     9056336.15\n",
       "A43     8489871.46\n",
       "A45     8448334.87\n",
       "A12     8334760.16\n",
       "A48     8292416.75\n",
       "A14     7943268.63\n",
       "Name: Amount, dtype: float64"
      ]
     },
     "execution_count": 52,
     "metadata": {},
     "output_type": "execute_result"
    }
   ],
   "source": [
    "cust_rep.groupby('Customer').Amount.sum().nlargest(10)"
   ]
  },
  {
   "cell_type": "markdown",
   "id": "9fb4d007",
   "metadata": {},
   "source": [
    "7.What is the average monthly spend by customers ?"
   ]
  },
  {
   "cell_type": "code",
   "execution_count": 59,
   "id": "7f7eca00",
   "metadata": {},
   "outputs": [
    {
     "data": {
      "text/plain": [
       "Customer\n",
       "A1      285705.708889\n",
       "A10     213745.813889\n",
       "A100    224786.880000\n",
       "A11     250957.093889\n",
       "A12     263969.375484\n",
       "            ...      \n",
       "A95     240401.500000\n",
       "A96      54729.660000\n",
       "A97     139018.260000\n",
       "A98     284521.060000\n",
       "A99      90184.220000\n",
       "Name: Amount, Length: 100, dtype: float64"
      ]
     },
     "execution_count": 59,
     "metadata": {},
     "output_type": "execute_result"
    }
   ],
   "source": [
    "cust_sep.groupby('Customer').Amount.mean()"
   ]
  },
  {
   "cell_type": "raw",
   "id": "8f1bc65b",
   "metadata": {},
   "source": [
    "8.What is the average monthly repayment by customers ?"
   ]
  },
  {
   "cell_type": "code",
   "execution_count": 62,
   "id": "a8d972af",
   "metadata": {},
   "outputs": [
    {
     "data": {
      "text/plain": [
       "Customer\n",
       "A1      264093.981667\n",
       "A10     205313.751111\n",
       "A100     69551.190000\n",
       "A11     295051.890556\n",
       "A12     268863.230968\n",
       "            ...      \n",
       "A95     369405.960000\n",
       "A96     310992.300000\n",
       "A97     121874.900000\n",
       "A98     337815.570000\n",
       "A99      25682.730000\n",
       "Name: Amount, Length: 100, dtype: float64"
      ]
     },
     "execution_count": 62,
     "metadata": {},
     "output_type": "execute_result"
    }
   ],
   "source": [
    "cust_rep.groupby('Customer').Amount.mean()"
   ]
  },
  {
   "cell_type": "code",
   "execution_count": null,
   "id": "4c5e99f1",
   "metadata": {},
   "outputs": [],
   "source": []
  },
  {
   "cell_type": "code",
   "execution_count": null,
   "id": "123637ce",
   "metadata": {},
   "outputs": [],
   "source": []
  },
  {
   "cell_type": "code",
   "execution_count": null,
   "id": "430797a3",
   "metadata": {},
   "outputs": [],
   "source": []
  },
  {
   "cell_type": "code",
   "execution_count": null,
   "id": "fed135af",
   "metadata": {},
   "outputs": [],
   "source": []
  }
 ],
 "metadata": {
  "kernelspec": {
   "display_name": "Python 3 (ipykernel)",
   "language": "python",
   "name": "python3"
  },
  "language_info": {
   "codemirror_mode": {
    "name": "ipython",
    "version": 3
   },
   "file_extension": ".py",
   "mimetype": "text/x-python",
   "name": "python",
   "nbconvert_exporter": "python",
   "pygments_lexer": "ipython3",
   "version": "3.9.7"
  }
 },
 "nbformat": 4,
 "nbformat_minor": 5
}
